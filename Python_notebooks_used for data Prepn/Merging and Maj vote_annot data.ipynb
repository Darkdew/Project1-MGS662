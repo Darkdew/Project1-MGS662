{
 "cells": [
  {
   "cell_type": "markdown",
   "metadata": {},
   "source": [
    "#### Data Merging, Cleaning and taking majority vote"
   ]
  },
  {
   "cell_type": "code",
   "execution_count": 1,
   "metadata": {},
   "outputs": [],
   "source": [
    "import pandas as pd"
   ]
  },
  {
   "cell_type": "code",
   "execution_count": 2,
   "metadata": {},
   "outputs": [],
   "source": [
    "df_Vineet= pd.read_excel(r'D:\\Syllabus and guidelines\\662- Optimization Methods in ML\\Project1\\ImageAnnotation_MGS662 (1)\\ImageAnnotation_MGS662\\Annotation_Task_VineetB_204.xlsx')"
   ]
  },
  {
   "cell_type": "code",
   "execution_count": 3,
   "metadata": {
    "scrolled": false
   },
   "outputs": [
    {
     "data": {
      "text/html": [
       "<div>\n",
       "<style scoped>\n",
       "    .dataframe tbody tr th:only-of-type {\n",
       "        vertical-align: middle;\n",
       "    }\n",
       "\n",
       "    .dataframe tbody tr th {\n",
       "        vertical-align: top;\n",
       "    }\n",
       "\n",
       "    .dataframe thead th {\n",
       "        text-align: right;\n",
       "    }\n",
       "</style>\n",
       "<table border=\"1\" class=\"dataframe\">\n",
       "  <thead>\n",
       "    <tr style=\"text-align: right;\">\n",
       "      <th></th>\n",
       "      <th>FileName</th>\n",
       "      <th>Label_Tree</th>\n",
       "      <th>Label_Mythical</th>\n",
       "      <th>Label_Animal</th>\n",
       "    </tr>\n",
       "  </thead>\n",
       "  <tbody>\n",
       "    <tr>\n",
       "      <td>0</td>\n",
       "      <td>01_binladen.jpg</td>\n",
       "      <td>1</td>\n",
       "      <td>1.0</td>\n",
       "      <td>1</td>\n",
       "    </tr>\n",
       "    <tr>\n",
       "      <td>1</td>\n",
       "      <td>01_binladen_part1.jpg</td>\n",
       "      <td>0</td>\n",
       "      <td>1.0</td>\n",
       "      <td>1</td>\n",
       "    </tr>\n",
       "    <tr>\n",
       "      <td>2</td>\n",
       "      <td>01_binladen_part2.jpg</td>\n",
       "      <td>1</td>\n",
       "      <td>1.0</td>\n",
       "      <td>0</td>\n",
       "    </tr>\n",
       "    <tr>\n",
       "      <td>3</td>\n",
       "      <td>01_binladen_part3.jpg</td>\n",
       "      <td>0</td>\n",
       "      <td>0.0</td>\n",
       "      <td>0</td>\n",
       "    </tr>\n",
       "    <tr>\n",
       "      <td>4</td>\n",
       "      <td>01_binladen_part4.jpg</td>\n",
       "      <td>0</td>\n",
       "      <td>0.0</td>\n",
       "      <td>1</td>\n",
       "    </tr>\n",
       "  </tbody>\n",
       "</table>\n",
       "</div>"
      ],
      "text/plain": [
       "                FileName  Label_Tree  Label_Mythical  Label_Animal\n",
       "0        01_binladen.jpg           1             1.0             1\n",
       "1  01_binladen_part1.jpg           0             1.0             1\n",
       "2  01_binladen_part2.jpg           1             1.0             0\n",
       "3  01_binladen_part3.jpg           0             0.0             0\n",
       "4  01_binladen_part4.jpg           0             0.0             1"
      ]
     },
     "execution_count": 3,
     "metadata": {},
     "output_type": "execute_result"
    }
   ],
   "source": [
    "df_Vineet.head()"
   ]
  },
  {
   "cell_type": "code",
   "execution_count": 4,
   "metadata": {},
   "outputs": [
    {
     "data": {
      "text/plain": [
       "Index(['FileName', 'Label_Tree', 'Label_Mythical', 'Label_Animal'], dtype='object')"
      ]
     },
     "execution_count": 4,
     "metadata": {},
     "output_type": "execute_result"
    }
   ],
   "source": [
    "df_Vineet.columns"
   ]
  },
  {
   "cell_type": "code",
   "execution_count": 5,
   "metadata": {},
   "outputs": [],
   "source": [
    "df_Wang= pd.read_excel(r'D:\\Syllabus and guidelines\\662- Optimization Methods in ML\\Project1\\ImageAnnotation_MGS662 (1)\\ImageAnnotation_MGS662\\Annotation_Wang_Yudan_204.xlsx')"
   ]
  },
  {
   "cell_type": "code",
   "execution_count": 6,
   "metadata": {
    "scrolled": true
   },
   "outputs": [
    {
     "data": {
      "text/html": [
       "<div>\n",
       "<style scoped>\n",
       "    .dataframe tbody tr th:only-of-type {\n",
       "        vertical-align: middle;\n",
       "    }\n",
       "\n",
       "    .dataframe tbody tr th {\n",
       "        vertical-align: top;\n",
       "    }\n",
       "\n",
       "    .dataframe thead th {\n",
       "        text-align: right;\n",
       "    }\n",
       "</style>\n",
       "<table border=\"1\" class=\"dataframe\">\n",
       "  <thead>\n",
       "    <tr style=\"text-align: right;\">\n",
       "      <th></th>\n",
       "      <th>Name</th>\n",
       "      <th>Label_Tree</th>\n",
       "      <th>Label_Mythical</th>\n",
       "      <th>Label_Animal</th>\n",
       "    </tr>\n",
       "  </thead>\n",
       "  <tbody>\n",
       "    <tr>\n",
       "      <td>0</td>\n",
       "      <td>01_binladen.jpg</td>\n",
       "      <td>1.0</td>\n",
       "      <td>1.0</td>\n",
       "      <td>1.0</td>\n",
       "    </tr>\n",
       "    <tr>\n",
       "      <td>1</td>\n",
       "      <td>01_binladen_part1.jpg</td>\n",
       "      <td>1.0</td>\n",
       "      <td>0.0</td>\n",
       "      <td>1.0</td>\n",
       "    </tr>\n",
       "    <tr>\n",
       "      <td>2</td>\n",
       "      <td>01_binladen_part2.jpg</td>\n",
       "      <td>1.0</td>\n",
       "      <td>1.0</td>\n",
       "      <td>0.0</td>\n",
       "    </tr>\n",
       "    <tr>\n",
       "      <td>3</td>\n",
       "      <td>01_binladen_part3.jpg</td>\n",
       "      <td>0.0</td>\n",
       "      <td>0.0</td>\n",
       "      <td>1.0</td>\n",
       "    </tr>\n",
       "    <tr>\n",
       "      <td>4</td>\n",
       "      <td>01_binladen_part4.jpg</td>\n",
       "      <td>0.0</td>\n",
       "      <td>1.0</td>\n",
       "      <td>0.0</td>\n",
       "    </tr>\n",
       "  </tbody>\n",
       "</table>\n",
       "</div>"
      ],
      "text/plain": [
       "                    Name  Label_Tree  Label_Mythical  Label_Animal\n",
       "0        01_binladen.jpg         1.0             1.0           1.0\n",
       "1  01_binladen_part1.jpg         1.0             0.0           1.0\n",
       "2  01_binladen_part2.jpg         1.0             1.0           0.0\n",
       "3  01_binladen_part3.jpg         0.0             0.0           1.0\n",
       "4  01_binladen_part4.jpg         0.0             1.0           0.0"
      ]
     },
     "execution_count": 6,
     "metadata": {},
     "output_type": "execute_result"
    }
   ],
   "source": [
    "df_Wang.head()"
   ]
  },
  {
   "cell_type": "code",
   "execution_count": 7,
   "metadata": {},
   "outputs": [
    {
     "data": {
      "text/plain": [
       "Index(['Name', 'Label_Tree', 'Label_Mythical', 'Label_Animal'], dtype='object')"
      ]
     },
     "execution_count": 7,
     "metadata": {},
     "output_type": "execute_result"
    }
   ],
   "source": [
    "df_Wang.columns"
   ]
  },
  {
   "cell_type": "code",
   "execution_count": 8,
   "metadata": {},
   "outputs": [],
   "source": [
    "df_agg= pd.DataFrame()\n",
    "df_agg[['FileName', 'Tree_Vineet']]= df_Vineet[['FileName', 'Label_Tree' ]]"
   ]
  },
  {
   "cell_type": "code",
   "execution_count": 9,
   "metadata": {},
   "outputs": [
    {
     "data": {
      "text/html": [
       "<div>\n",
       "<style scoped>\n",
       "    .dataframe tbody tr th:only-of-type {\n",
       "        vertical-align: middle;\n",
       "    }\n",
       "\n",
       "    .dataframe tbody tr th {\n",
       "        vertical-align: top;\n",
       "    }\n",
       "\n",
       "    .dataframe thead th {\n",
       "        text-align: right;\n",
       "    }\n",
       "</style>\n",
       "<table border=\"1\" class=\"dataframe\">\n",
       "  <thead>\n",
       "    <tr style=\"text-align: right;\">\n",
       "      <th></th>\n",
       "      <th>FileName</th>\n",
       "      <th>Tree_Vineet</th>\n",
       "    </tr>\n",
       "  </thead>\n",
       "  <tbody>\n",
       "    <tr>\n",
       "      <td>0</td>\n",
       "      <td>01_binladen.jpg</td>\n",
       "      <td>1</td>\n",
       "    </tr>\n",
       "    <tr>\n",
       "      <td>1</td>\n",
       "      <td>01_binladen_part1.jpg</td>\n",
       "      <td>0</td>\n",
       "    </tr>\n",
       "    <tr>\n",
       "      <td>2</td>\n",
       "      <td>01_binladen_part2.jpg</td>\n",
       "      <td>1</td>\n",
       "    </tr>\n",
       "    <tr>\n",
       "      <td>3</td>\n",
       "      <td>01_binladen_part3.jpg</td>\n",
       "      <td>0</td>\n",
       "    </tr>\n",
       "    <tr>\n",
       "      <td>4</td>\n",
       "      <td>01_binladen_part4.jpg</td>\n",
       "      <td>0</td>\n",
       "    </tr>\n",
       "  </tbody>\n",
       "</table>\n",
       "</div>"
      ],
      "text/plain": [
       "                FileName  Tree_Vineet\n",
       "0        01_binladen.jpg            1\n",
       "1  01_binladen_part1.jpg            0\n",
       "2  01_binladen_part2.jpg            1\n",
       "3  01_binladen_part3.jpg            0\n",
       "4  01_binladen_part4.jpg            0"
      ]
     },
     "execution_count": 9,
     "metadata": {},
     "output_type": "execute_result"
    }
   ],
   "source": [
    "df_agg.head()"
   ]
  },
  {
   "cell_type": "code",
   "execution_count": 10,
   "metadata": {},
   "outputs": [
    {
     "data": {
      "text/plain": [
       "203"
      ]
     },
     "execution_count": 10,
     "metadata": {},
     "output_type": "execute_result"
    }
   ],
   "source": [
    "len(df_agg)"
   ]
  },
  {
   "cell_type": "code",
   "execution_count": 11,
   "metadata": {},
   "outputs": [],
   "source": [
    "df_agg['Tree_Wang']= df_Wang['Label_Tree']"
   ]
  },
  {
   "cell_type": "code",
   "execution_count": 12,
   "metadata": {
    "scrolled": true
   },
   "outputs": [
    {
     "data": {
      "text/html": [
       "<div>\n",
       "<style scoped>\n",
       "    .dataframe tbody tr th:only-of-type {\n",
       "        vertical-align: middle;\n",
       "    }\n",
       "\n",
       "    .dataframe tbody tr th {\n",
       "        vertical-align: top;\n",
       "    }\n",
       "\n",
       "    .dataframe thead th {\n",
       "        text-align: right;\n",
       "    }\n",
       "</style>\n",
       "<table border=\"1\" class=\"dataframe\">\n",
       "  <thead>\n",
       "    <tr style=\"text-align: right;\">\n",
       "      <th></th>\n",
       "      <th>FileName</th>\n",
       "      <th>Tree_Vineet</th>\n",
       "      <th>Tree_Wang</th>\n",
       "    </tr>\n",
       "  </thead>\n",
       "  <tbody>\n",
       "    <tr>\n",
       "      <td>0</td>\n",
       "      <td>01_binladen.jpg</td>\n",
       "      <td>1</td>\n",
       "      <td>1.0</td>\n",
       "    </tr>\n",
       "    <tr>\n",
       "      <td>1</td>\n",
       "      <td>01_binladen_part1.jpg</td>\n",
       "      <td>0</td>\n",
       "      <td>1.0</td>\n",
       "    </tr>\n",
       "    <tr>\n",
       "      <td>2</td>\n",
       "      <td>01_binladen_part2.jpg</td>\n",
       "      <td>1</td>\n",
       "      <td>1.0</td>\n",
       "    </tr>\n",
       "    <tr>\n",
       "      <td>3</td>\n",
       "      <td>01_binladen_part3.jpg</td>\n",
       "      <td>0</td>\n",
       "      <td>0.0</td>\n",
       "    </tr>\n",
       "    <tr>\n",
       "      <td>4</td>\n",
       "      <td>01_binladen_part4.jpg</td>\n",
       "      <td>0</td>\n",
       "      <td>0.0</td>\n",
       "    </tr>\n",
       "  </tbody>\n",
       "</table>\n",
       "</div>"
      ],
      "text/plain": [
       "                FileName  Tree_Vineet  Tree_Wang\n",
       "0        01_binladen.jpg            1        1.0\n",
       "1  01_binladen_part1.jpg            0        1.0\n",
       "2  01_binladen_part2.jpg            1        1.0\n",
       "3  01_binladen_part3.jpg            0        0.0\n",
       "4  01_binladen_part4.jpg            0        0.0"
      ]
     },
     "execution_count": 12,
     "metadata": {},
     "output_type": "execute_result"
    }
   ],
   "source": [
    "df_agg.head()"
   ]
  },
  {
   "cell_type": "code",
   "execution_count": 13,
   "metadata": {
    "scrolled": true
   },
   "outputs": [
    {
     "name": "stdout",
     "output_type": "stream",
     "text": [
      "Index(['FileName', 'Label_Tree', 'Label_Mythical', 'Label_Animal'], dtype='object')\n"
     ]
    },
    {
     "data": {
      "text/html": [
       "<div>\n",
       "<style scoped>\n",
       "    .dataframe tbody tr th:only-of-type {\n",
       "        vertical-align: middle;\n",
       "    }\n",
       "\n",
       "    .dataframe tbody tr th {\n",
       "        vertical-align: top;\n",
       "    }\n",
       "\n",
       "    .dataframe thead th {\n",
       "        text-align: right;\n",
       "    }\n",
       "</style>\n",
       "<table border=\"1\" class=\"dataframe\">\n",
       "  <thead>\n",
       "    <tr style=\"text-align: right;\">\n",
       "      <th></th>\n",
       "      <th>FileName</th>\n",
       "      <th>Tree_Vineet</th>\n",
       "      <th>Tree_Wang</th>\n",
       "      <th>Tree_Mayuri</th>\n",
       "    </tr>\n",
       "  </thead>\n",
       "  <tbody>\n",
       "    <tr>\n",
       "      <td>0</td>\n",
       "      <td>01_binladen.jpg</td>\n",
       "      <td>1</td>\n",
       "      <td>1.0</td>\n",
       "      <td>1</td>\n",
       "    </tr>\n",
       "    <tr>\n",
       "      <td>1</td>\n",
       "      <td>01_binladen_part1.jpg</td>\n",
       "      <td>0</td>\n",
       "      <td>1.0</td>\n",
       "      <td>1</td>\n",
       "    </tr>\n",
       "    <tr>\n",
       "      <td>2</td>\n",
       "      <td>01_binladen_part2.jpg</td>\n",
       "      <td>1</td>\n",
       "      <td>1.0</td>\n",
       "      <td>0</td>\n",
       "    </tr>\n",
       "    <tr>\n",
       "      <td>3</td>\n",
       "      <td>01_binladen_part3.jpg</td>\n",
       "      <td>0</td>\n",
       "      <td>0.0</td>\n",
       "      <td>0</td>\n",
       "    </tr>\n",
       "    <tr>\n",
       "      <td>4</td>\n",
       "      <td>01_binladen_part4.jpg</td>\n",
       "      <td>0</td>\n",
       "      <td>0.0</td>\n",
       "      <td>1</td>\n",
       "    </tr>\n",
       "  </tbody>\n",
       "</table>\n",
       "</div>"
      ],
      "text/plain": [
       "                FileName  Tree_Vineet  Tree_Wang  Tree_Mayuri\n",
       "0        01_binladen.jpg            1        1.0            1\n",
       "1  01_binladen_part1.jpg            0        1.0            1\n",
       "2  01_binladen_part2.jpg            1        1.0            0\n",
       "3  01_binladen_part3.jpg            0        0.0            0\n",
       "4  01_binladen_part4.jpg            0        0.0            1"
      ]
     },
     "execution_count": 13,
     "metadata": {},
     "output_type": "execute_result"
    }
   ],
   "source": [
    "df_Mayuri= pd.read_excel(r'D:\\Syllabus and guidelines\\662- Optimization Methods in ML\\Project1\\ImageAnnotation_MGS662 (1)\\ImageAnnotation_MGS662\\Image Annotation - Mayuri_204.xlsx')\n",
    "\n",
    "df_agg['Tree_Mayuri']= df_Mayuri['Label_Tree']\n",
    "\n",
    "print(df_Mayuri.columns)\n",
    "df_agg.head()"
   ]
  },
  {
   "cell_type": "code",
   "execution_count": 14,
   "metadata": {},
   "outputs": [
    {
     "name": "stdout",
     "output_type": "stream",
     "text": [
      "Index(['FileName', 'Label_Tree', 'Label_Mythical', 'Label_Animal'], dtype='object')\n"
     ]
    },
    {
     "data": {
      "text/html": [
       "<div>\n",
       "<style scoped>\n",
       "    .dataframe tbody tr th:only-of-type {\n",
       "        vertical-align: middle;\n",
       "    }\n",
       "\n",
       "    .dataframe tbody tr th {\n",
       "        vertical-align: top;\n",
       "    }\n",
       "\n",
       "    .dataframe thead th {\n",
       "        text-align: right;\n",
       "    }\n",
       "</style>\n",
       "<table border=\"1\" class=\"dataframe\">\n",
       "  <thead>\n",
       "    <tr style=\"text-align: right;\">\n",
       "      <th></th>\n",
       "      <th>FileName</th>\n",
       "      <th>Tree_Vineet</th>\n",
       "      <th>Tree_Wang</th>\n",
       "      <th>Tree_Mayuri</th>\n",
       "      <th>Tree_Anthony</th>\n",
       "    </tr>\n",
       "  </thead>\n",
       "  <tbody>\n",
       "    <tr>\n",
       "      <td>0</td>\n",
       "      <td>01_binladen.jpg</td>\n",
       "      <td>1</td>\n",
       "      <td>1.0</td>\n",
       "      <td>1</td>\n",
       "      <td>1</td>\n",
       "    </tr>\n",
       "    <tr>\n",
       "      <td>1</td>\n",
       "      <td>01_binladen_part1.jpg</td>\n",
       "      <td>0</td>\n",
       "      <td>1.0</td>\n",
       "      <td>1</td>\n",
       "      <td>1</td>\n",
       "    </tr>\n",
       "    <tr>\n",
       "      <td>2</td>\n",
       "      <td>01_binladen_part2.jpg</td>\n",
       "      <td>1</td>\n",
       "      <td>1.0</td>\n",
       "      <td>0</td>\n",
       "      <td>0</td>\n",
       "    </tr>\n",
       "    <tr>\n",
       "      <td>3</td>\n",
       "      <td>01_binladen_part3.jpg</td>\n",
       "      <td>0</td>\n",
       "      <td>0.0</td>\n",
       "      <td>0</td>\n",
       "      <td>0</td>\n",
       "    </tr>\n",
       "    <tr>\n",
       "      <td>4</td>\n",
       "      <td>01_binladen_part4.jpg</td>\n",
       "      <td>0</td>\n",
       "      <td>0.0</td>\n",
       "      <td>1</td>\n",
       "      <td>1</td>\n",
       "    </tr>\n",
       "  </tbody>\n",
       "</table>\n",
       "</div>"
      ],
      "text/plain": [
       "                FileName  Tree_Vineet  Tree_Wang  Tree_Mayuri  Tree_Anthony\n",
       "0        01_binladen.jpg            1        1.0            1             1\n",
       "1  01_binladen_part1.jpg            0        1.0            1             1\n",
       "2  01_binladen_part2.jpg            1        1.0            0             0\n",
       "3  01_binladen_part3.jpg            0        0.0            0             0\n",
       "4  01_binladen_part4.jpg            0        0.0            1             1"
      ]
     },
     "execution_count": 14,
     "metadata": {},
     "output_type": "execute_result"
    }
   ],
   "source": [
    "df_Anthony= pd.read_excel(r'D:\\Syllabus and guidelines\\662- Optimization Methods in ML\\Project1\\ImageAnnotation_MGS662 (1)\\ImageAnnotation_MGS662\\mgs662 hw1_204.xlsx')\n",
    "\n",
    "df_agg['Tree_Anthony']= df_Anthony['Label_Tree']\n",
    "\n",
    "print(df_Anthony.columns)\n",
    "df_agg.head()"
   ]
  },
  {
   "cell_type": "code",
   "execution_count": 15,
   "metadata": {},
   "outputs": [
    {
     "name": "stdout",
     "output_type": "stream",
     "text": [
      "Index(['FileName', 'Label_Tree', 'Label_Mythical ', 'Label_Animal'], dtype='object')\n"
     ]
    },
    {
     "data": {
      "text/html": [
       "<div>\n",
       "<style scoped>\n",
       "    .dataframe tbody tr th:only-of-type {\n",
       "        vertical-align: middle;\n",
       "    }\n",
       "\n",
       "    .dataframe tbody tr th {\n",
       "        vertical-align: top;\n",
       "    }\n",
       "\n",
       "    .dataframe thead th {\n",
       "        text-align: right;\n",
       "    }\n",
       "</style>\n",
       "<table border=\"1\" class=\"dataframe\">\n",
       "  <thead>\n",
       "    <tr style=\"text-align: right;\">\n",
       "      <th></th>\n",
       "      <th>FileName</th>\n",
       "      <th>Tree_Vineet</th>\n",
       "      <th>Tree_Wang</th>\n",
       "      <th>Tree_Mayuri</th>\n",
       "      <th>Tree_Anthony</th>\n",
       "      <th>Tree_Zhong</th>\n",
       "    </tr>\n",
       "  </thead>\n",
       "  <tbody>\n",
       "    <tr>\n",
       "      <td>0</td>\n",
       "      <td>01_binladen.jpg</td>\n",
       "      <td>1</td>\n",
       "      <td>1.0</td>\n",
       "      <td>1</td>\n",
       "      <td>1</td>\n",
       "      <td>1</td>\n",
       "    </tr>\n",
       "    <tr>\n",
       "      <td>1</td>\n",
       "      <td>01_binladen_part1.jpg</td>\n",
       "      <td>0</td>\n",
       "      <td>1.0</td>\n",
       "      <td>1</td>\n",
       "      <td>1</td>\n",
       "      <td>1</td>\n",
       "    </tr>\n",
       "    <tr>\n",
       "      <td>2</td>\n",
       "      <td>01_binladen_part2.jpg</td>\n",
       "      <td>1</td>\n",
       "      <td>1.0</td>\n",
       "      <td>0</td>\n",
       "      <td>0</td>\n",
       "      <td>1</td>\n",
       "    </tr>\n",
       "    <tr>\n",
       "      <td>3</td>\n",
       "      <td>01_binladen_part3.jpg</td>\n",
       "      <td>0</td>\n",
       "      <td>0.0</td>\n",
       "      <td>0</td>\n",
       "      <td>0</td>\n",
       "      <td>0</td>\n",
       "    </tr>\n",
       "    <tr>\n",
       "      <td>4</td>\n",
       "      <td>01_binladen_part4.jpg</td>\n",
       "      <td>0</td>\n",
       "      <td>0.0</td>\n",
       "      <td>1</td>\n",
       "      <td>1</td>\n",
       "      <td>0</td>\n",
       "    </tr>\n",
       "  </tbody>\n",
       "</table>\n",
       "</div>"
      ],
      "text/plain": [
       "                FileName  Tree_Vineet  Tree_Wang  Tree_Mayuri  Tree_Anthony  \\\n",
       "0        01_binladen.jpg            1        1.0            1             1   \n",
       "1  01_binladen_part1.jpg            0        1.0            1             1   \n",
       "2  01_binladen_part2.jpg            1        1.0            0             0   \n",
       "3  01_binladen_part3.jpg            0        0.0            0             0   \n",
       "4  01_binladen_part4.jpg            0        0.0            1             1   \n",
       "\n",
       "   Tree_Zhong  \n",
       "0           1  \n",
       "1           1  \n",
       "2           1  \n",
       "3           0  \n",
       "4           0  "
      ]
     },
     "execution_count": 15,
     "metadata": {},
     "output_type": "execute_result"
    }
   ],
   "source": [
    "df_Zhong= pd.read_excel(r'D:\\Syllabus and guidelines\\662- Optimization Methods in ML\\Project1\\ImageAnnotation_MGS662 (1)\\ImageAnnotation_MGS662\\ZhongchangSun_Annotation_204.xlsx')\n",
    "\n",
    "df_agg['Tree_Zhong']= df_Zhong['Label_Tree']\n",
    "\n",
    "print(df_Zhong.columns)\n",
    "df_agg.head()"
   ]
  },
  {
   "cell_type": "code",
   "execution_count": 16,
   "metadata": {
    "scrolled": false
   },
   "outputs": [
    {
     "name": "stdout",
     "output_type": "stream",
     "text": [
      "Index(['FileName', 'Label_Tree', 'Label_Mythical', 'Label_Animal',\n",
      "       'Unnamed: 4', 'Unnamed: 5', 'Unnamed: 6', 'Unnamed: 7'],\n",
      "      dtype='object')\n"
     ]
    },
    {
     "data": {
      "text/html": [
       "<div>\n",
       "<style scoped>\n",
       "    .dataframe tbody tr th:only-of-type {\n",
       "        vertical-align: middle;\n",
       "    }\n",
       "\n",
       "    .dataframe tbody tr th {\n",
       "        vertical-align: top;\n",
       "    }\n",
       "\n",
       "    .dataframe thead th {\n",
       "        text-align: right;\n",
       "    }\n",
       "</style>\n",
       "<table border=\"1\" class=\"dataframe\">\n",
       "  <thead>\n",
       "    <tr style=\"text-align: right;\">\n",
       "      <th></th>\n",
       "      <th>FileName</th>\n",
       "      <th>Tree_Vineet</th>\n",
       "      <th>Tree_Wang</th>\n",
       "      <th>Tree_Mayuri</th>\n",
       "      <th>Tree_Anthony</th>\n",
       "      <th>Tree_Zhong</th>\n",
       "      <th>Tree_Zixia</th>\n",
       "    </tr>\n",
       "  </thead>\n",
       "  <tbody>\n",
       "    <tr>\n",
       "      <td>0</td>\n",
       "      <td>01_binladen.jpg</td>\n",
       "      <td>1</td>\n",
       "      <td>1.0</td>\n",
       "      <td>1</td>\n",
       "      <td>1</td>\n",
       "      <td>1</td>\n",
       "      <td>1.0</td>\n",
       "    </tr>\n",
       "    <tr>\n",
       "      <td>1</td>\n",
       "      <td>01_binladen_part1.jpg</td>\n",
       "      <td>0</td>\n",
       "      <td>1.0</td>\n",
       "      <td>1</td>\n",
       "      <td>1</td>\n",
       "      <td>1</td>\n",
       "      <td>0.0</td>\n",
       "    </tr>\n",
       "    <tr>\n",
       "      <td>2</td>\n",
       "      <td>01_binladen_part2.jpg</td>\n",
       "      <td>1</td>\n",
       "      <td>1.0</td>\n",
       "      <td>0</td>\n",
       "      <td>0</td>\n",
       "      <td>1</td>\n",
       "      <td>1.0</td>\n",
       "    </tr>\n",
       "    <tr>\n",
       "      <td>3</td>\n",
       "      <td>01_binladen_part3.jpg</td>\n",
       "      <td>0</td>\n",
       "      <td>0.0</td>\n",
       "      <td>0</td>\n",
       "      <td>0</td>\n",
       "      <td>0</td>\n",
       "      <td>1.0</td>\n",
       "    </tr>\n",
       "    <tr>\n",
       "      <td>4</td>\n",
       "      <td>01_binladen_part4.jpg</td>\n",
       "      <td>0</td>\n",
       "      <td>0.0</td>\n",
       "      <td>1</td>\n",
       "      <td>1</td>\n",
       "      <td>0</td>\n",
       "      <td>0.0</td>\n",
       "    </tr>\n",
       "  </tbody>\n",
       "</table>\n",
       "</div>"
      ],
      "text/plain": [
       "                FileName  Tree_Vineet  Tree_Wang  Tree_Mayuri  Tree_Anthony  \\\n",
       "0        01_binladen.jpg            1        1.0            1             1   \n",
       "1  01_binladen_part1.jpg            0        1.0            1             1   \n",
       "2  01_binladen_part2.jpg            1        1.0            0             0   \n",
       "3  01_binladen_part3.jpg            0        0.0            0             0   \n",
       "4  01_binladen_part4.jpg            0        0.0            1             1   \n",
       "\n",
       "   Tree_Zhong  Tree_Zixia  \n",
       "0           1         1.0  \n",
       "1           1         0.0  \n",
       "2           1         1.0  \n",
       "3           0         1.0  \n",
       "4           0         0.0  "
      ]
     },
     "execution_count": 16,
     "metadata": {},
     "output_type": "execute_result"
    }
   ],
   "source": [
    "df_Zixia= pd.read_excel(r'D:\\Syllabus and guidelines\\662- Optimization Methods in ML\\Project1\\ImageAnnotation_MGS662 (1)\\ImageAnnotation_MGS662\\Zixia_Meng_204.xlsx')\n",
    "\n",
    "df_agg['Tree_Zixia']= df_Zixia['Label_Tree']\n",
    "\n",
    "print(df_Zixia.columns)\n",
    "df_agg.head()\n"
   ]
  },
  {
   "cell_type": "code",
   "execution_count": 17,
   "metadata": {},
   "outputs": [
    {
     "data": {
      "text/plain": [
       "7"
      ]
     },
     "execution_count": 17,
     "metadata": {},
     "output_type": "execute_result"
    }
   ],
   "source": [
    "df_agg.shape[1]"
   ]
  },
  {
   "cell_type": "code",
   "execution_count": 18,
   "metadata": {},
   "outputs": [
    {
     "data": {
      "text/plain": [
       "1"
      ]
     },
     "execution_count": 18,
     "metadata": {},
     "output_type": "execute_result"
    }
   ],
   "source": [
    "df_agg.iloc[0,1]"
   ]
  },
  {
   "cell_type": "code",
   "execution_count": 19,
   "metadata": {},
   "outputs": [],
   "source": [
    "#So now we have randomly picked 6 annotators \n",
    "#we will now take majority vote on each of the file rows in the df_agg above\n",
    "#an aggregate score>=3 for each file will lead to a 1 else 0\n",
    "#df_tree_final= pd.DataFrame]\n",
    "list_votesum=[]\n",
    "for rows in range(len(df_agg)):\n",
    "    vote_sum=0\n",
    "    for columns in range(1, df_agg.shape[1]):\n",
    "        a= df_agg.iloc[rows, columns]\n",
    "        vote_sum= vote_sum + a\n",
    "               \n",
    "    #majority vote logic\n",
    "    if vote_sum>3 :\n",
    "        vote_sum= 1\n",
    "    else:\n",
    "        vote_sum= 0\n",
    "    list_votesum.append(vote_sum)\n",
    "\n",
    "df_agg['votesum']= list_votesum\n"
   ]
  },
  {
   "cell_type": "code",
   "execution_count": 20,
   "metadata": {
    "scrolled": false
   },
   "outputs": [
    {
     "data": {
      "text/html": [
       "<div>\n",
       "<style scoped>\n",
       "    .dataframe tbody tr th:only-of-type {\n",
       "        vertical-align: middle;\n",
       "    }\n",
       "\n",
       "    .dataframe tbody tr th {\n",
       "        vertical-align: top;\n",
       "    }\n",
       "\n",
       "    .dataframe thead th {\n",
       "        text-align: right;\n",
       "    }\n",
       "</style>\n",
       "<table border=\"1\" class=\"dataframe\">\n",
       "  <thead>\n",
       "    <tr style=\"text-align: right;\">\n",
       "      <th></th>\n",
       "      <th>FileName</th>\n",
       "      <th>Tree_Vineet</th>\n",
       "      <th>Tree_Wang</th>\n",
       "      <th>Tree_Mayuri</th>\n",
       "      <th>Tree_Anthony</th>\n",
       "      <th>Tree_Zhong</th>\n",
       "      <th>Tree_Zixia</th>\n",
       "      <th>votesum</th>\n",
       "    </tr>\n",
       "  </thead>\n",
       "  <tbody>\n",
       "    <tr>\n",
       "      <td>0</td>\n",
       "      <td>01_binladen.jpg</td>\n",
       "      <td>1</td>\n",
       "      <td>1.0</td>\n",
       "      <td>1</td>\n",
       "      <td>1</td>\n",
       "      <td>1</td>\n",
       "      <td>1.0</td>\n",
       "      <td>1</td>\n",
       "    </tr>\n",
       "    <tr>\n",
       "      <td>1</td>\n",
       "      <td>01_binladen_part1.jpg</td>\n",
       "      <td>0</td>\n",
       "      <td>1.0</td>\n",
       "      <td>1</td>\n",
       "      <td>1</td>\n",
       "      <td>1</td>\n",
       "      <td>0.0</td>\n",
       "      <td>1</td>\n",
       "    </tr>\n",
       "    <tr>\n",
       "      <td>2</td>\n",
       "      <td>01_binladen_part2.jpg</td>\n",
       "      <td>1</td>\n",
       "      <td>1.0</td>\n",
       "      <td>0</td>\n",
       "      <td>0</td>\n",
       "      <td>1</td>\n",
       "      <td>1.0</td>\n",
       "      <td>1</td>\n",
       "    </tr>\n",
       "    <tr>\n",
       "      <td>3</td>\n",
       "      <td>01_binladen_part3.jpg</td>\n",
       "      <td>0</td>\n",
       "      <td>0.0</td>\n",
       "      <td>0</td>\n",
       "      <td>0</td>\n",
       "      <td>0</td>\n",
       "      <td>1.0</td>\n",
       "      <td>0</td>\n",
       "    </tr>\n",
       "    <tr>\n",
       "      <td>4</td>\n",
       "      <td>01_binladen_part4.jpg</td>\n",
       "      <td>0</td>\n",
       "      <td>0.0</td>\n",
       "      <td>1</td>\n",
       "      <td>1</td>\n",
       "      <td>0</td>\n",
       "      <td>0.0</td>\n",
       "      <td>0</td>\n",
       "    </tr>\n",
       "  </tbody>\n",
       "</table>\n",
       "</div>"
      ],
      "text/plain": [
       "                FileName  Tree_Vineet  Tree_Wang  Tree_Mayuri  Tree_Anthony  \\\n",
       "0        01_binladen.jpg            1        1.0            1             1   \n",
       "1  01_binladen_part1.jpg            0        1.0            1             1   \n",
       "2  01_binladen_part2.jpg            1        1.0            0             0   \n",
       "3  01_binladen_part3.jpg            0        0.0            0             0   \n",
       "4  01_binladen_part4.jpg            0        0.0            1             1   \n",
       "\n",
       "   Tree_Zhong  Tree_Zixia  votesum  \n",
       "0           1         1.0        1  \n",
       "1           1         0.0        1  \n",
       "2           1         1.0        1  \n",
       "3           0         1.0        0  \n",
       "4           0         0.0        0  "
      ]
     },
     "execution_count": 20,
     "metadata": {},
     "output_type": "execute_result"
    }
   ],
   "source": [
    "df_agg.head()"
   ]
  },
  {
   "cell_type": "code",
   "execution_count": 21,
   "metadata": {
    "scrolled": true
   },
   "outputs": [
    {
     "data": {
      "text/html": [
       "<div>\n",
       "<style scoped>\n",
       "    .dataframe tbody tr th:only-of-type {\n",
       "        vertical-align: middle;\n",
       "    }\n",
       "\n",
       "    .dataframe tbody tr th {\n",
       "        vertical-align: top;\n",
       "    }\n",
       "\n",
       "    .dataframe thead th {\n",
       "        text-align: right;\n",
       "    }\n",
       "</style>\n",
       "<table border=\"1\" class=\"dataframe\">\n",
       "  <thead>\n",
       "    <tr style=\"text-align: right;\">\n",
       "      <th></th>\n",
       "      <th>FileName</th>\n",
       "      <th>Voted_Tree</th>\n",
       "    </tr>\n",
       "  </thead>\n",
       "  <tbody>\n",
       "    <tr>\n",
       "      <td>0</td>\n",
       "      <td>01_binladen.jpg</td>\n",
       "      <td>1</td>\n",
       "    </tr>\n",
       "    <tr>\n",
       "      <td>1</td>\n",
       "      <td>01_binladen_part1.jpg</td>\n",
       "      <td>1</td>\n",
       "    </tr>\n",
       "    <tr>\n",
       "      <td>2</td>\n",
       "      <td>01_binladen_part2.jpg</td>\n",
       "      <td>1</td>\n",
       "    </tr>\n",
       "    <tr>\n",
       "      <td>3</td>\n",
       "      <td>01_binladen_part3.jpg</td>\n",
       "      <td>0</td>\n",
       "    </tr>\n",
       "    <tr>\n",
       "      <td>4</td>\n",
       "      <td>01_binladen_part4.jpg</td>\n",
       "      <td>0</td>\n",
       "    </tr>\n",
       "  </tbody>\n",
       "</table>\n",
       "</div>"
      ],
      "text/plain": [
       "                FileName  Voted_Tree\n",
       "0        01_binladen.jpg           1\n",
       "1  01_binladen_part1.jpg           1\n",
       "2  01_binladen_part2.jpg           1\n",
       "3  01_binladen_part3.jpg           0\n",
       "4  01_binladen_part4.jpg           0"
      ]
     },
     "execution_count": 21,
     "metadata": {},
     "output_type": "execute_result"
    }
   ],
   "source": [
    "df_final= pd.DataFrame()\n",
    "df_final[[\"FileName\", \"Voted_Tree\"]]= df_agg[[\"FileName\", \"votesum\"]]\n",
    "df_final.head()"
   ]
  },
  {
   "cell_type": "code",
   "execution_count": 22,
   "metadata": {},
   "outputs": [],
   "source": [
    "df_agg_mythchar=pd.DataFrame()\n",
    "df_agg_mythchar[\"FileName\"]=df_Vineet[\"FileName\"]"
   ]
  },
  {
   "cell_type": "code",
   "execution_count": 23,
   "metadata": {
    "scrolled": true
   },
   "outputs": [
    {
     "data": {
      "text/html": [
       "<div>\n",
       "<style scoped>\n",
       "    .dataframe tbody tr th:only-of-type {\n",
       "        vertical-align: middle;\n",
       "    }\n",
       "\n",
       "    .dataframe tbody tr th {\n",
       "        vertical-align: top;\n",
       "    }\n",
       "\n",
       "    .dataframe thead th {\n",
       "        text-align: right;\n",
       "    }\n",
       "</style>\n",
       "<table border=\"1\" class=\"dataframe\">\n",
       "  <thead>\n",
       "    <tr style=\"text-align: right;\">\n",
       "      <th></th>\n",
       "      <th>FileName</th>\n",
       "      <th>MythChar_Vineet</th>\n",
       "      <th>MythChar_Wang</th>\n",
       "      <th>MythChar_Mayuri</th>\n",
       "      <th>MythChar_Anthony</th>\n",
       "      <th>MythChar_Zhong</th>\n",
       "      <th>MythChar_Zixia</th>\n",
       "    </tr>\n",
       "  </thead>\n",
       "  <tbody>\n",
       "    <tr>\n",
       "      <td>0</td>\n",
       "      <td>01_binladen.jpg</td>\n",
       "      <td>1.0</td>\n",
       "      <td>1.0</td>\n",
       "      <td>0</td>\n",
       "      <td>0</td>\n",
       "      <td>1</td>\n",
       "      <td>1.0</td>\n",
       "    </tr>\n",
       "    <tr>\n",
       "      <td>1</td>\n",
       "      <td>01_binladen_part1.jpg</td>\n",
       "      <td>1.0</td>\n",
       "      <td>0.0</td>\n",
       "      <td>1</td>\n",
       "      <td>1</td>\n",
       "      <td>1</td>\n",
       "      <td>0.0</td>\n",
       "    </tr>\n",
       "    <tr>\n",
       "      <td>2</td>\n",
       "      <td>01_binladen_part2.jpg</td>\n",
       "      <td>1.0</td>\n",
       "      <td>1.0</td>\n",
       "      <td>0</td>\n",
       "      <td>1</td>\n",
       "      <td>1</td>\n",
       "      <td>1.0</td>\n",
       "    </tr>\n",
       "    <tr>\n",
       "      <td>3</td>\n",
       "      <td>01_binladen_part3.jpg</td>\n",
       "      <td>0.0</td>\n",
       "      <td>0.0</td>\n",
       "      <td>0</td>\n",
       "      <td>0</td>\n",
       "      <td>0</td>\n",
       "      <td>0.0</td>\n",
       "    </tr>\n",
       "    <tr>\n",
       "      <td>4</td>\n",
       "      <td>01_binladen_part4.jpg</td>\n",
       "      <td>0.0</td>\n",
       "      <td>1.0</td>\n",
       "      <td>0</td>\n",
       "      <td>0</td>\n",
       "      <td>0</td>\n",
       "      <td>0.0</td>\n",
       "    </tr>\n",
       "  </tbody>\n",
       "</table>\n",
       "</div>"
      ],
      "text/plain": [
       "                FileName  MythChar_Vineet  MythChar_Wang  MythChar_Mayuri  \\\n",
       "0        01_binladen.jpg              1.0            1.0                0   \n",
       "1  01_binladen_part1.jpg              1.0            0.0                1   \n",
       "2  01_binladen_part2.jpg              1.0            1.0                0   \n",
       "3  01_binladen_part3.jpg              0.0            0.0                0   \n",
       "4  01_binladen_part4.jpg              0.0            1.0                0   \n",
       "\n",
       "   MythChar_Anthony  MythChar_Zhong  MythChar_Zixia  \n",
       "0                 0               1             1.0  \n",
       "1                 1               1             0.0  \n",
       "2                 1               1             1.0  \n",
       "3                 0               0             0.0  \n",
       "4                 0               0             0.0  "
      ]
     },
     "execution_count": 23,
     "metadata": {},
     "output_type": "execute_result"
    }
   ],
   "source": [
    "df_agg_mythchar['MythChar_Vineet']= df_Vineet['Label_Mythical']\n",
    "df_agg_mythchar['MythChar_Wang']= df_Wang['Label_Mythical']\n",
    "df_agg_mythchar['MythChar_Mayuri']= df_Mayuri['Label_Mythical']\n",
    "df_agg_mythchar['MythChar_Anthony']= df_Anthony['Label_Mythical']\n",
    "df_agg_mythchar['MythChar_Zhong']= df_Zhong['Label_Mythical ']\n",
    "df_agg_mythchar['MythChar_Zixia']= df_Zixia['Label_Mythical']\n",
    "\n",
    "\n",
    "df_agg_mythchar.head()\n"
   ]
  },
  {
   "cell_type": "code",
   "execution_count": 24,
   "metadata": {},
   "outputs": [],
   "source": [
    "#So from the randomly picked annotators \n",
    "#we will now take majority vote on each of the file rows in the df_agg above\n",
    "#an aggregate score>=3 for each file will lead to a 1 else 0\n",
    "\n",
    "list_votesum=[]\n",
    "for rows in range(len(df_agg_mythchar)):\n",
    "    vote_sum=0\n",
    "    for columns in range(1, df_agg_mythchar.shape[1]):\n",
    "        a= df_agg_mythchar.iloc[rows, columns]\n",
    "        vote_sum= vote_sum + a\n",
    "               \n",
    "    #majority vote logic\n",
    "    if vote_sum>3 :\n",
    "        vote_sum= 1\n",
    "    else:\n",
    "        vote_sum= 0\n",
    "    list_votesum.append(vote_sum)\n",
    "\n",
    "df_agg_mythchar['votesum']= list_votesum"
   ]
  },
  {
   "cell_type": "code",
   "execution_count": 25,
   "metadata": {
    "scrolled": true
   },
   "outputs": [
    {
     "data": {
      "text/html": [
       "<div>\n",
       "<style scoped>\n",
       "    .dataframe tbody tr th:only-of-type {\n",
       "        vertical-align: middle;\n",
       "    }\n",
       "\n",
       "    .dataframe tbody tr th {\n",
       "        vertical-align: top;\n",
       "    }\n",
       "\n",
       "    .dataframe thead th {\n",
       "        text-align: right;\n",
       "    }\n",
       "</style>\n",
       "<table border=\"1\" class=\"dataframe\">\n",
       "  <thead>\n",
       "    <tr style=\"text-align: right;\">\n",
       "      <th></th>\n",
       "      <th>FileName</th>\n",
       "      <th>MythChar_Vineet</th>\n",
       "      <th>MythChar_Wang</th>\n",
       "      <th>MythChar_Mayuri</th>\n",
       "      <th>MythChar_Anthony</th>\n",
       "      <th>MythChar_Zhong</th>\n",
       "      <th>MythChar_Zixia</th>\n",
       "      <th>votesum</th>\n",
       "    </tr>\n",
       "  </thead>\n",
       "  <tbody>\n",
       "    <tr>\n",
       "      <td>0</td>\n",
       "      <td>01_binladen.jpg</td>\n",
       "      <td>1.0</td>\n",
       "      <td>1.0</td>\n",
       "      <td>0</td>\n",
       "      <td>0</td>\n",
       "      <td>1</td>\n",
       "      <td>1.0</td>\n",
       "      <td>1</td>\n",
       "    </tr>\n",
       "    <tr>\n",
       "      <td>1</td>\n",
       "      <td>01_binladen_part1.jpg</td>\n",
       "      <td>1.0</td>\n",
       "      <td>0.0</td>\n",
       "      <td>1</td>\n",
       "      <td>1</td>\n",
       "      <td>1</td>\n",
       "      <td>0.0</td>\n",
       "      <td>1</td>\n",
       "    </tr>\n",
       "    <tr>\n",
       "      <td>2</td>\n",
       "      <td>01_binladen_part2.jpg</td>\n",
       "      <td>1.0</td>\n",
       "      <td>1.0</td>\n",
       "      <td>0</td>\n",
       "      <td>1</td>\n",
       "      <td>1</td>\n",
       "      <td>1.0</td>\n",
       "      <td>1</td>\n",
       "    </tr>\n",
       "    <tr>\n",
       "      <td>3</td>\n",
       "      <td>01_binladen_part3.jpg</td>\n",
       "      <td>0.0</td>\n",
       "      <td>0.0</td>\n",
       "      <td>0</td>\n",
       "      <td>0</td>\n",
       "      <td>0</td>\n",
       "      <td>0.0</td>\n",
       "      <td>0</td>\n",
       "    </tr>\n",
       "    <tr>\n",
       "      <td>4</td>\n",
       "      <td>01_binladen_part4.jpg</td>\n",
       "      <td>0.0</td>\n",
       "      <td>1.0</td>\n",
       "      <td>0</td>\n",
       "      <td>0</td>\n",
       "      <td>0</td>\n",
       "      <td>0.0</td>\n",
       "      <td>0</td>\n",
       "    </tr>\n",
       "  </tbody>\n",
       "</table>\n",
       "</div>"
      ],
      "text/plain": [
       "                FileName  MythChar_Vineet  MythChar_Wang  MythChar_Mayuri  \\\n",
       "0        01_binladen.jpg              1.0            1.0                0   \n",
       "1  01_binladen_part1.jpg              1.0            0.0                1   \n",
       "2  01_binladen_part2.jpg              1.0            1.0                0   \n",
       "3  01_binladen_part3.jpg              0.0            0.0                0   \n",
       "4  01_binladen_part4.jpg              0.0            1.0                0   \n",
       "\n",
       "   MythChar_Anthony  MythChar_Zhong  MythChar_Zixia  votesum  \n",
       "0                 0               1             1.0        1  \n",
       "1                 1               1             0.0        1  \n",
       "2                 1               1             1.0        1  \n",
       "3                 0               0             0.0        0  \n",
       "4                 0               0             0.0        0  "
      ]
     },
     "execution_count": 25,
     "metadata": {},
     "output_type": "execute_result"
    }
   ],
   "source": [
    "df_agg_mythchar.head()"
   ]
  },
  {
   "cell_type": "code",
   "execution_count": 26,
   "metadata": {
    "scrolled": false
   },
   "outputs": [
    {
     "data": {
      "text/html": [
       "<div>\n",
       "<style scoped>\n",
       "    .dataframe tbody tr th:only-of-type {\n",
       "        vertical-align: middle;\n",
       "    }\n",
       "\n",
       "    .dataframe tbody tr th {\n",
       "        vertical-align: top;\n",
       "    }\n",
       "\n",
       "    .dataframe thead th {\n",
       "        text-align: right;\n",
       "    }\n",
       "</style>\n",
       "<table border=\"1\" class=\"dataframe\">\n",
       "  <thead>\n",
       "    <tr style=\"text-align: right;\">\n",
       "      <th></th>\n",
       "      <th>FileName</th>\n",
       "      <th>Voted_Tree</th>\n",
       "      <th>Voted_MythChar</th>\n",
       "    </tr>\n",
       "  </thead>\n",
       "  <tbody>\n",
       "    <tr>\n",
       "      <td>0</td>\n",
       "      <td>01_binladen.jpg</td>\n",
       "      <td>1</td>\n",
       "      <td>1</td>\n",
       "    </tr>\n",
       "    <tr>\n",
       "      <td>1</td>\n",
       "      <td>01_binladen_part1.jpg</td>\n",
       "      <td>1</td>\n",
       "      <td>1</td>\n",
       "    </tr>\n",
       "    <tr>\n",
       "      <td>2</td>\n",
       "      <td>01_binladen_part2.jpg</td>\n",
       "      <td>1</td>\n",
       "      <td>1</td>\n",
       "    </tr>\n",
       "    <tr>\n",
       "      <td>3</td>\n",
       "      <td>01_binladen_part3.jpg</td>\n",
       "      <td>0</td>\n",
       "      <td>0</td>\n",
       "    </tr>\n",
       "    <tr>\n",
       "      <td>4</td>\n",
       "      <td>01_binladen_part4.jpg</td>\n",
       "      <td>0</td>\n",
       "      <td>0</td>\n",
       "    </tr>\n",
       "    <tr>\n",
       "      <td>5</td>\n",
       "      <td>01_binladen_part5.jpg</td>\n",
       "      <td>1</td>\n",
       "      <td>0</td>\n",
       "    </tr>\n",
       "    <tr>\n",
       "      <td>6</td>\n",
       "      <td>03_manasa.jpg</td>\n",
       "      <td>0</td>\n",
       "      <td>1</td>\n",
       "    </tr>\n",
       "    <tr>\n",
       "      <td>7</td>\n",
       "      <td>03_manasa_part1.jpg</td>\n",
       "      <td>0</td>\n",
       "      <td>0</td>\n",
       "    </tr>\n",
       "    <tr>\n",
       "      <td>8</td>\n",
       "      <td>03_manasa_part2.jpg</td>\n",
       "      <td>0</td>\n",
       "      <td>0</td>\n",
       "    </tr>\n",
       "    <tr>\n",
       "      <td>9</td>\n",
       "      <td>03_manasa_part3.jpg</td>\n",
       "      <td>0</td>\n",
       "      <td>0</td>\n",
       "    </tr>\n",
       "  </tbody>\n",
       "</table>\n",
       "</div>"
      ],
      "text/plain": [
       "                FileName  Voted_Tree  Voted_MythChar\n",
       "0        01_binladen.jpg           1               1\n",
       "1  01_binladen_part1.jpg           1               1\n",
       "2  01_binladen_part2.jpg           1               1\n",
       "3  01_binladen_part3.jpg           0               0\n",
       "4  01_binladen_part4.jpg           0               0\n",
       "5  01_binladen_part5.jpg           1               0\n",
       "6          03_manasa.jpg           0               1\n",
       "7    03_manasa_part1.jpg           0               0\n",
       "8    03_manasa_part2.jpg           0               0\n",
       "9    03_manasa_part3.jpg           0               0"
      ]
     },
     "execution_count": 26,
     "metadata": {},
     "output_type": "execute_result"
    }
   ],
   "source": [
    "#adding the result to our final dataset\n",
    "df_final[\"Voted_MythChar\"]= df_agg_mythchar[\"votesum\"]\n",
    "df_final.head(10)"
   ]
  },
  {
   "cell_type": "code",
   "execution_count": 27,
   "metadata": {},
   "outputs": [],
   "source": [
    "df_agg_animal=pd.DataFrame()\n",
    "df_agg_animal[\"FileName\"]=df_Vineet[\"FileName\"]"
   ]
  },
  {
   "cell_type": "code",
   "execution_count": 28,
   "metadata": {
    "scrolled": false
   },
   "outputs": [
    {
     "data": {
      "text/html": [
       "<div>\n",
       "<style scoped>\n",
       "    .dataframe tbody tr th:only-of-type {\n",
       "        vertical-align: middle;\n",
       "    }\n",
       "\n",
       "    .dataframe tbody tr th {\n",
       "        vertical-align: top;\n",
       "    }\n",
       "\n",
       "    .dataframe thead th {\n",
       "        text-align: right;\n",
       "    }\n",
       "</style>\n",
       "<table border=\"1\" class=\"dataframe\">\n",
       "  <thead>\n",
       "    <tr style=\"text-align: right;\">\n",
       "      <th></th>\n",
       "      <th>FileName</th>\n",
       "      <th>MythChar_Vineet</th>\n",
       "      <th>MythChar_Wang</th>\n",
       "      <th>MythChar_Mayuri</th>\n",
       "      <th>MythChar_Anthony</th>\n",
       "      <th>MythChar_Zhong</th>\n",
       "      <th>MythChar_Zixia</th>\n",
       "    </tr>\n",
       "  </thead>\n",
       "  <tbody>\n",
       "    <tr>\n",
       "      <td>0</td>\n",
       "      <td>01_binladen.jpg</td>\n",
       "      <td>1</td>\n",
       "      <td>1.0</td>\n",
       "      <td>1</td>\n",
       "      <td>0</td>\n",
       "      <td>1</td>\n",
       "      <td>1.0</td>\n",
       "    </tr>\n",
       "    <tr>\n",
       "      <td>1</td>\n",
       "      <td>01_binladen_part1.jpg</td>\n",
       "      <td>1</td>\n",
       "      <td>1.0</td>\n",
       "      <td>0</td>\n",
       "      <td>1</td>\n",
       "      <td>0</td>\n",
       "      <td>1.0</td>\n",
       "    </tr>\n",
       "    <tr>\n",
       "      <td>2</td>\n",
       "      <td>01_binladen_part2.jpg</td>\n",
       "      <td>0</td>\n",
       "      <td>0.0</td>\n",
       "      <td>0</td>\n",
       "      <td>0</td>\n",
       "      <td>0</td>\n",
       "      <td>0.0</td>\n",
       "    </tr>\n",
       "    <tr>\n",
       "      <td>3</td>\n",
       "      <td>01_binladen_part3.jpg</td>\n",
       "      <td>0</td>\n",
       "      <td>1.0</td>\n",
       "      <td>0</td>\n",
       "      <td>0</td>\n",
       "      <td>0</td>\n",
       "      <td>1.0</td>\n",
       "    </tr>\n",
       "    <tr>\n",
       "      <td>4</td>\n",
       "      <td>01_binladen_part4.jpg</td>\n",
       "      <td>1</td>\n",
       "      <td>0.0</td>\n",
       "      <td>1</td>\n",
       "      <td>1</td>\n",
       "      <td>0</td>\n",
       "      <td>1.0</td>\n",
       "    </tr>\n",
       "  </tbody>\n",
       "</table>\n",
       "</div>"
      ],
      "text/plain": [
       "                FileName  MythChar_Vineet  MythChar_Wang  MythChar_Mayuri  \\\n",
       "0        01_binladen.jpg                1            1.0                1   \n",
       "1  01_binladen_part1.jpg                1            1.0                0   \n",
       "2  01_binladen_part2.jpg                0            0.0                0   \n",
       "3  01_binladen_part3.jpg                0            1.0                0   \n",
       "4  01_binladen_part4.jpg                1            0.0                1   \n",
       "\n",
       "   MythChar_Anthony  MythChar_Zhong  MythChar_Zixia  \n",
       "0                 0               1             1.0  \n",
       "1                 1               0             1.0  \n",
       "2                 0               0             0.0  \n",
       "3                 0               0             1.0  \n",
       "4                 1               0             1.0  "
      ]
     },
     "execution_count": 28,
     "metadata": {},
     "output_type": "execute_result"
    }
   ],
   "source": [
    "df_agg_animal['MythChar_Vineet']= df_Vineet['Label_Animal']\n",
    "df_agg_animal['MythChar_Wang']= df_Wang['Label_Animal']\n",
    "df_agg_animal['MythChar_Mayuri']= df_Mayuri['Label_Animal']\n",
    "df_agg_animal['MythChar_Anthony']= df_Anthony['Label_Animal']\n",
    "df_agg_animal['MythChar_Zhong']= df_Zhong['Label_Animal']\n",
    "df_agg_animal['MythChar_Zixia']= df_Zixia['Label_Animal']\n",
    "\n",
    "\n",
    "df_agg_animal.head()"
   ]
  },
  {
   "cell_type": "code",
   "execution_count": 29,
   "metadata": {},
   "outputs": [],
   "source": [
    "#So from the randomly picked annotators \n",
    "#we will now take majority vote on each of the file rows in the df_agg above\n",
    "#an aggregate score>=3 for each file will lead to a 1 else 0\n",
    "\n",
    "list_votesum=[]\n",
    "for rows in range(len(df_agg_animal)):\n",
    "    vote_sum=0\n",
    "    for columns in range(1, df_agg_animal.shape[1]):\n",
    "        a= df_agg_animal.iloc[rows, columns]\n",
    "        vote_sum= vote_sum + a\n",
    "               \n",
    "    #majority vote logic\n",
    "    if vote_sum>3 :\n",
    "        vote_sum= 1\n",
    "    else:\n",
    "        vote_sum= 0\n",
    "    list_votesum.append(vote_sum)\n",
    "\n",
    "df_agg_animal['votesum']= list_votesum"
   ]
  },
  {
   "cell_type": "code",
   "execution_count": 30,
   "metadata": {},
   "outputs": [
    {
     "data": {
      "text/html": [
       "<div>\n",
       "<style scoped>\n",
       "    .dataframe tbody tr th:only-of-type {\n",
       "        vertical-align: middle;\n",
       "    }\n",
       "\n",
       "    .dataframe tbody tr th {\n",
       "        vertical-align: top;\n",
       "    }\n",
       "\n",
       "    .dataframe thead th {\n",
       "        text-align: right;\n",
       "    }\n",
       "</style>\n",
       "<table border=\"1\" class=\"dataframe\">\n",
       "  <thead>\n",
       "    <tr style=\"text-align: right;\">\n",
       "      <th></th>\n",
       "      <th>FileName</th>\n",
       "      <th>MythChar_Vineet</th>\n",
       "      <th>MythChar_Wang</th>\n",
       "      <th>MythChar_Mayuri</th>\n",
       "      <th>MythChar_Anthony</th>\n",
       "      <th>MythChar_Zhong</th>\n",
       "      <th>MythChar_Zixia</th>\n",
       "      <th>votesum</th>\n",
       "    </tr>\n",
       "  </thead>\n",
       "  <tbody>\n",
       "    <tr>\n",
       "      <td>0</td>\n",
       "      <td>01_binladen.jpg</td>\n",
       "      <td>1</td>\n",
       "      <td>1.0</td>\n",
       "      <td>1</td>\n",
       "      <td>0</td>\n",
       "      <td>1</td>\n",
       "      <td>1.0</td>\n",
       "      <td>1</td>\n",
       "    </tr>\n",
       "    <tr>\n",
       "      <td>1</td>\n",
       "      <td>01_binladen_part1.jpg</td>\n",
       "      <td>1</td>\n",
       "      <td>1.0</td>\n",
       "      <td>0</td>\n",
       "      <td>1</td>\n",
       "      <td>0</td>\n",
       "      <td>1.0</td>\n",
       "      <td>1</td>\n",
       "    </tr>\n",
       "    <tr>\n",
       "      <td>2</td>\n",
       "      <td>01_binladen_part2.jpg</td>\n",
       "      <td>0</td>\n",
       "      <td>0.0</td>\n",
       "      <td>0</td>\n",
       "      <td>0</td>\n",
       "      <td>0</td>\n",
       "      <td>0.0</td>\n",
       "      <td>0</td>\n",
       "    </tr>\n",
       "    <tr>\n",
       "      <td>3</td>\n",
       "      <td>01_binladen_part3.jpg</td>\n",
       "      <td>0</td>\n",
       "      <td>1.0</td>\n",
       "      <td>0</td>\n",
       "      <td>0</td>\n",
       "      <td>0</td>\n",
       "      <td>1.0</td>\n",
       "      <td>0</td>\n",
       "    </tr>\n",
       "    <tr>\n",
       "      <td>4</td>\n",
       "      <td>01_binladen_part4.jpg</td>\n",
       "      <td>1</td>\n",
       "      <td>0.0</td>\n",
       "      <td>1</td>\n",
       "      <td>1</td>\n",
       "      <td>0</td>\n",
       "      <td>1.0</td>\n",
       "      <td>1</td>\n",
       "    </tr>\n",
       "  </tbody>\n",
       "</table>\n",
       "</div>"
      ],
      "text/plain": [
       "                FileName  MythChar_Vineet  MythChar_Wang  MythChar_Mayuri  \\\n",
       "0        01_binladen.jpg                1            1.0                1   \n",
       "1  01_binladen_part1.jpg                1            1.0                0   \n",
       "2  01_binladen_part2.jpg                0            0.0                0   \n",
       "3  01_binladen_part3.jpg                0            1.0                0   \n",
       "4  01_binladen_part4.jpg                1            0.0                1   \n",
       "\n",
       "   MythChar_Anthony  MythChar_Zhong  MythChar_Zixia  votesum  \n",
       "0                 0               1             1.0        1  \n",
       "1                 1               0             1.0        1  \n",
       "2                 0               0             0.0        0  \n",
       "3                 0               0             1.0        0  \n",
       "4                 1               0             1.0        1  "
      ]
     },
     "execution_count": 30,
     "metadata": {},
     "output_type": "execute_result"
    }
   ],
   "source": [
    "df_agg_animal.head()"
   ]
  },
  {
   "cell_type": "code",
   "execution_count": 31,
   "metadata": {
    "scrolled": false
   },
   "outputs": [
    {
     "data": {
      "text/html": [
       "<div>\n",
       "<style scoped>\n",
       "    .dataframe tbody tr th:only-of-type {\n",
       "        vertical-align: middle;\n",
       "    }\n",
       "\n",
       "    .dataframe tbody tr th {\n",
       "        vertical-align: top;\n",
       "    }\n",
       "\n",
       "    .dataframe thead th {\n",
       "        text-align: right;\n",
       "    }\n",
       "</style>\n",
       "<table border=\"1\" class=\"dataframe\">\n",
       "  <thead>\n",
       "    <tr style=\"text-align: right;\">\n",
       "      <th></th>\n",
       "      <th>FileName</th>\n",
       "      <th>Voted_Tree</th>\n",
       "      <th>Voted_MythChar</th>\n",
       "      <th>Voted_Animal</th>\n",
       "    </tr>\n",
       "  </thead>\n",
       "  <tbody>\n",
       "    <tr>\n",
       "      <td>0</td>\n",
       "      <td>01_binladen.jpg</td>\n",
       "      <td>1</td>\n",
       "      <td>1</td>\n",
       "      <td>1</td>\n",
       "    </tr>\n",
       "    <tr>\n",
       "      <td>1</td>\n",
       "      <td>01_binladen_part1.jpg</td>\n",
       "      <td>1</td>\n",
       "      <td>1</td>\n",
       "      <td>1</td>\n",
       "    </tr>\n",
       "    <tr>\n",
       "      <td>2</td>\n",
       "      <td>01_binladen_part2.jpg</td>\n",
       "      <td>1</td>\n",
       "      <td>1</td>\n",
       "      <td>0</td>\n",
       "    </tr>\n",
       "    <tr>\n",
       "      <td>3</td>\n",
       "      <td>01_binladen_part3.jpg</td>\n",
       "      <td>0</td>\n",
       "      <td>0</td>\n",
       "      <td>0</td>\n",
       "    </tr>\n",
       "    <tr>\n",
       "      <td>4</td>\n",
       "      <td>01_binladen_part4.jpg</td>\n",
       "      <td>0</td>\n",
       "      <td>0</td>\n",
       "      <td>1</td>\n",
       "    </tr>\n",
       "    <tr>\n",
       "      <td>5</td>\n",
       "      <td>01_binladen_part5.jpg</td>\n",
       "      <td>1</td>\n",
       "      <td>0</td>\n",
       "      <td>1</td>\n",
       "    </tr>\n",
       "    <tr>\n",
       "      <td>6</td>\n",
       "      <td>03_manasa.jpg</td>\n",
       "      <td>0</td>\n",
       "      <td>1</td>\n",
       "      <td>1</td>\n",
       "    </tr>\n",
       "    <tr>\n",
       "      <td>7</td>\n",
       "      <td>03_manasa_part1.jpg</td>\n",
       "      <td>0</td>\n",
       "      <td>0</td>\n",
       "      <td>0</td>\n",
       "    </tr>\n",
       "    <tr>\n",
       "      <td>8</td>\n",
       "      <td>03_manasa_part2.jpg</td>\n",
       "      <td>0</td>\n",
       "      <td>0</td>\n",
       "      <td>0</td>\n",
       "    </tr>\n",
       "    <tr>\n",
       "      <td>9</td>\n",
       "      <td>03_manasa_part3.jpg</td>\n",
       "      <td>0</td>\n",
       "      <td>0</td>\n",
       "      <td>1</td>\n",
       "    </tr>\n",
       "  </tbody>\n",
       "</table>\n",
       "</div>"
      ],
      "text/plain": [
       "                FileName  Voted_Tree  Voted_MythChar  Voted_Animal\n",
       "0        01_binladen.jpg           1               1             1\n",
       "1  01_binladen_part1.jpg           1               1             1\n",
       "2  01_binladen_part2.jpg           1               1             0\n",
       "3  01_binladen_part3.jpg           0               0             0\n",
       "4  01_binladen_part4.jpg           0               0             1\n",
       "5  01_binladen_part5.jpg           1               0             1\n",
       "6          03_manasa.jpg           0               1             1\n",
       "7    03_manasa_part1.jpg           0               0             0\n",
       "8    03_manasa_part2.jpg           0               0             0\n",
       "9    03_manasa_part3.jpg           0               0             1"
      ]
     },
     "execution_count": 31,
     "metadata": {},
     "output_type": "execute_result"
    }
   ],
   "source": [
    "#adding the result to our final dataset\n",
    "df_final[\"Voted_Animal\"]= df_agg_animal[\"votesum\"]\n",
    "df_final.head(10)"
   ]
  },
  {
   "cell_type": "markdown",
   "metadata": {},
   "source": [
    "#### our dataset is ready\n",
    "##### exporting the resultant dataframe to excel"
   ]
  },
  {
   "cell_type": "code",
   "execution_count": 32,
   "metadata": {},
   "outputs": [],
   "source": [
    "df_final.to_excel(r'D:\\Syllabus and guidelines\\662- Optimization Methods in ML\\Project1\\ImageAnnotation_MGS662 (1)\\ImageAnnotation_MGS662\\Annotation_Task_majvote.xlsx', index = False)"
   ]
  },
  {
   "cell_type": "markdown",
   "metadata": {},
   "source": [
    "### Extracting those tree type file names that had class=1"
   ]
  },
  {
   "cell_type": "code",
   "execution_count": 33,
   "metadata": {
    "scrolled": true
   },
   "outputs": [],
   "source": [
    "list1=[]\n",
    "for rows in range(len(df_final)):\n",
    "    if df_final.iloc[rows,1]== 1:\n",
    "        a= df_final.iloc[rows,0]\n",
    "        list1.append(a)\n",
    "        "
   ]
  },
  {
   "cell_type": "code",
   "execution_count": 34,
   "metadata": {},
   "outputs": [],
   "source": [
    "df_tree_Class1= pd.DataFrame()\n",
    "df_tree_Class1['Class1_tree_File']= list1"
   ]
  },
  {
   "cell_type": "code",
   "execution_count": 35,
   "metadata": {
    "scrolled": false
   },
   "outputs": [
    {
     "data": {
      "text/html": [
       "<div>\n",
       "<style scoped>\n",
       "    .dataframe tbody tr th:only-of-type {\n",
       "        vertical-align: middle;\n",
       "    }\n",
       "\n",
       "    .dataframe tbody tr th {\n",
       "        vertical-align: top;\n",
       "    }\n",
       "\n",
       "    .dataframe thead th {\n",
       "        text-align: right;\n",
       "    }\n",
       "</style>\n",
       "<table border=\"1\" class=\"dataframe\">\n",
       "  <thead>\n",
       "    <tr style=\"text-align: right;\">\n",
       "      <th></th>\n",
       "      <th>Class1_tree_File</th>\n",
       "    </tr>\n",
       "  </thead>\n",
       "  <tbody>\n",
       "    <tr>\n",
       "      <td>0</td>\n",
       "      <td>01_binladen.jpg</td>\n",
       "    </tr>\n",
       "    <tr>\n",
       "      <td>1</td>\n",
       "      <td>01_binladen_part1.jpg</td>\n",
       "    </tr>\n",
       "    <tr>\n",
       "      <td>2</td>\n",
       "      <td>01_binladen_part2.jpg</td>\n",
       "    </tr>\n",
       "    <tr>\n",
       "      <td>3</td>\n",
       "      <td>01_binladen_part5.jpg</td>\n",
       "    </tr>\n",
       "    <tr>\n",
       "      <td>4</td>\n",
       "      <td>04_binladen.jpg</td>\n",
       "    </tr>\n",
       "  </tbody>\n",
       "</table>\n",
       "</div>"
      ],
      "text/plain": [
       "        Class1_tree_File\n",
       "0        01_binladen.jpg\n",
       "1  01_binladen_part1.jpg\n",
       "2  01_binladen_part2.jpg\n",
       "3  01_binladen_part5.jpg\n",
       "4        04_binladen.jpg"
      ]
     },
     "execution_count": 35,
     "metadata": {},
     "output_type": "execute_result"
    }
   ],
   "source": [
    "df_tree_Class1.head()"
   ]
  },
  {
   "cell_type": "code",
   "execution_count": 36,
   "metadata": {},
   "outputs": [],
   "source": [
    "df_tree_Class1.to_excel(r'D:\\Syllabus and guidelines\\662- Optimization Methods in ML\\Project1\\train_tree\\tree_Class_1.xlsx', index = False)"
   ]
  },
  {
   "cell_type": "markdown",
   "metadata": {},
   "source": [
    "### Extracting those tree type file names that had class=0"
   ]
  },
  {
   "cell_type": "code",
   "execution_count": 37,
   "metadata": {},
   "outputs": [],
   "source": [
    "list0=[]\n",
    "for rows in range(len(df_final)):\n",
    "    if df_final.iloc[rows,1]== 0:\n",
    "        a= df_final.iloc[rows,0]\n",
    "        list0.append(a)\n",
    "        \n",
    "df_tree_Class0= pd.DataFrame()\n",
    "df_tree_Class0['Class0_tree_File']= list0\n",
    "\n",
    "\n",
    "df_tree_Class0.to_excel(r'D:\\Syllabus and guidelines\\662- Optimization Methods in ML\\Project1\\train_tree\\tree_Class_0.xlsx', index = False)"
   ]
  },
  {
   "cell_type": "code",
   "execution_count": 38,
   "metadata": {
    "scrolled": true
   },
   "outputs": [
    {
     "data": {
      "text/plain": [
       "(139, 1)"
      ]
     },
     "execution_count": 38,
     "metadata": {},
     "output_type": "execute_result"
    }
   ],
   "source": [
    "df_tree_Class0.shape"
   ]
  },
  {
   "cell_type": "markdown",
   "metadata": {},
   "source": [
    "### Extracting those MythChar type file names that had class=1"
   ]
  },
  {
   "cell_type": "code",
   "execution_count": 42,
   "metadata": {},
   "outputs": [],
   "source": [
    "list1=[]\n",
    "for rows in range(len(df_final)):\n",
    "    if df_final.iloc[rows,2]== 1:\n",
    "        a= df_final.iloc[rows,0]\n",
    "        list1.append(a)\n",
    "\n",
    "df_mythchar_Class1= pd.DataFrame()\n",
    "df_mythchar_Class1['Class1_mythchar_File']= list1\n",
    "\n",
    "df_mythchar_Class1.head()\n",
    "\n",
    "df_mythchar_Class1.to_excel(r'D:\\Syllabus and guidelines\\662- Optimization Methods in ML\\Project1\\train_mythchar\\mythchar_Class_1.xlsx', index = False)\n"
   ]
  },
  {
   "cell_type": "code",
   "execution_count": 43,
   "metadata": {
    "scrolled": false
   },
   "outputs": [
    {
     "data": {
      "text/html": [
       "<div>\n",
       "<style scoped>\n",
       "    .dataframe tbody tr th:only-of-type {\n",
       "        vertical-align: middle;\n",
       "    }\n",
       "\n",
       "    .dataframe tbody tr th {\n",
       "        vertical-align: top;\n",
       "    }\n",
       "\n",
       "    .dataframe thead th {\n",
       "        text-align: right;\n",
       "    }\n",
       "</style>\n",
       "<table border=\"1\" class=\"dataframe\">\n",
       "  <thead>\n",
       "    <tr style=\"text-align: right;\">\n",
       "      <th></th>\n",
       "      <th>Class1_mythchar_File</th>\n",
       "    </tr>\n",
       "  </thead>\n",
       "  <tbody>\n",
       "    <tr>\n",
       "      <td>0</td>\n",
       "      <td>01_binladen.jpg</td>\n",
       "    </tr>\n",
       "    <tr>\n",
       "      <td>1</td>\n",
       "      <td>01_binladen_part1.jpg</td>\n",
       "    </tr>\n",
       "    <tr>\n",
       "      <td>2</td>\n",
       "      <td>01_binladen_part2.jpg</td>\n",
       "    </tr>\n",
       "    <tr>\n",
       "      <td>3</td>\n",
       "      <td>03_manasa.jpg</td>\n",
       "    </tr>\n",
       "    <tr>\n",
       "      <td>4</td>\n",
       "      <td>03_manasa_part4.jpg</td>\n",
       "    </tr>\n",
       "  </tbody>\n",
       "</table>\n",
       "</div>"
      ],
      "text/plain": [
       "    Class1_mythchar_File\n",
       "0        01_binladen.jpg\n",
       "1  01_binladen_part1.jpg\n",
       "2  01_binladen_part2.jpg\n",
       "3          03_manasa.jpg\n",
       "4    03_manasa_part4.jpg"
      ]
     },
     "execution_count": 43,
     "metadata": {},
     "output_type": "execute_result"
    }
   ],
   "source": [
    "df_mythchar_Class1.head()"
   ]
  },
  {
   "cell_type": "code",
   "execution_count": 44,
   "metadata": {},
   "outputs": [
    {
     "data": {
      "text/plain": [
       "(74, 1)"
      ]
     },
     "execution_count": 44,
     "metadata": {},
     "output_type": "execute_result"
    }
   ],
   "source": [
    "df_mythchar_Class1.shape"
   ]
  },
  {
   "cell_type": "markdown",
   "metadata": {},
   "source": [
    "### Extracting those MythChar type file names that had class=0"
   ]
  },
  {
   "cell_type": "code",
   "execution_count": 45,
   "metadata": {},
   "outputs": [],
   "source": [
    "list1=[]\n",
    "for rows in range(len(df_final)):\n",
    "    if df_final.iloc[rows,2]== 0:\n",
    "        a= df_final.iloc[rows,0]\n",
    "        list1.append(a)\n",
    "\n",
    "df_mythchar_Class0= pd.DataFrame()\n",
    "df_mythchar_Class0['Class0_mythchar_File']= list1\n",
    "\n",
    "df_mythchar_Class0.head()\n",
    "\n",
    "df_mythchar_Class0.to_excel(r'D:\\Syllabus and guidelines\\662- Optimization Methods in ML\\Project1\\train_mythchar\\mythchar_Class_0.xlsx', index = False)\n"
   ]
  },
  {
   "cell_type": "code",
   "execution_count": 47,
   "metadata": {
    "scrolled": true
   },
   "outputs": [
    {
     "data": {
      "text/plain": [
       "(129, 1)"
      ]
     },
     "execution_count": 47,
     "metadata": {},
     "output_type": "execute_result"
    }
   ],
   "source": [
    "df_mythchar_Class0.shape"
   ]
  },
  {
   "cell_type": "markdown",
   "metadata": {},
   "source": [
    "### Extracting those animal type file names that had class=1"
   ]
  },
  {
   "cell_type": "code",
   "execution_count": 48,
   "metadata": {},
   "outputs": [],
   "source": [
    "list1=[]\n",
    "for rows in range(len(df_final)):\n",
    "    if df_final.iloc[rows,3]== 1:\n",
    "        a= df_final.iloc[rows,0]\n",
    "        list1.append(a)\n",
    "\n",
    "df_animal_Class1= pd.DataFrame()\n",
    "df_animal_Class1['Class1_animal_File']= list1\n",
    "\n",
    "df_animal_Class1.head()\n",
    "\n",
    "df_animal_Class1.to_excel(r'D:\\Syllabus and guidelines\\662- Optimization Methods in ML\\Project1\\train_animal\\animal_Class_1.xlsx', index = False)\n"
   ]
  },
  {
   "cell_type": "code",
   "execution_count": 51,
   "metadata": {},
   "outputs": [
    {
     "data": {
      "text/plain": [
       "(84, 1)"
      ]
     },
     "execution_count": 51,
     "metadata": {},
     "output_type": "execute_result"
    }
   ],
   "source": [
    "df_animal_Class1.shape"
   ]
  },
  {
   "cell_type": "markdown",
   "metadata": {},
   "source": [
    "### Extracting those MythChar type file names that had class=0"
   ]
  },
  {
   "cell_type": "code",
   "execution_count": 52,
   "metadata": {},
   "outputs": [],
   "source": [
    "list1=[]\n",
    "for rows in range(len(df_final)):\n",
    "    if df_final.iloc[rows,3]== 0:\n",
    "        a= df_final.iloc[rows,0]\n",
    "        list1.append(a)\n",
    "\n",
    "df_animal_Class0= pd.DataFrame()\n",
    "df_animal_Class0['Class0_animal_File']= list1\n",
    "\n",
    "df_animal_Class0.head()\n",
    "\n",
    "df_animal_Class0.to_excel(r'D:\\Syllabus and guidelines\\662- Optimization Methods in ML\\Project1\\train_animal\\animal_Class_0.xlsx', index = False)\n"
   ]
  },
  {
   "cell_type": "code",
   "execution_count": 53,
   "metadata": {},
   "outputs": [
    {
     "data": {
      "text/plain": [
       "(119, 1)"
      ]
     },
     "execution_count": 53,
     "metadata": {},
     "output_type": "execute_result"
    }
   ],
   "source": [
    "df_animal_Class0.shape"
   ]
  }
 ],
 "metadata": {
  "kernelspec": {
   "display_name": "Python 3",
   "language": "python",
   "name": "python3"
  },
  "language_info": {
   "codemirror_mode": {
    "name": "ipython",
    "version": 3
   },
   "file_extension": ".py",
   "mimetype": "text/x-python",
   "name": "python",
   "nbconvert_exporter": "python",
   "pygments_lexer": "ipython3",
   "version": "3.7.4"
  }
 },
 "nbformat": 4,
 "nbformat_minor": 2
}
